{
 "cells": [
  {
   "cell_type": "markdown",
   "id": "97c8f2a6-2318-4d48-b2b4-df9eb8b7a0e3",
   "metadata": {},
   "source": [
    "# Mean Temperature"
   ]
  },
  {
   "cell_type": "markdown",
   "id": "163ba019-3078-4fff-9b3a-2f184e6a3ec4",
   "metadata": {},
   "source": [
    "# Total Precipitation"
   ]
  },
  {
   "cell_type": "markdown",
   "id": "d915da55-e308-406f-89a3-76ad20fd183a",
   "metadata": {},
   "source": [
    "# Hottest Day"
   ]
  },
  {
   "cell_type": "code",
   "execution_count": null,
   "id": "748beffe-5324-4de1-9548-114011539a67",
   "metadata": {},
   "outputs": [],
   "source": []
  }
 ],
 "metadata": {
  "kernelspec": {
   "display_name": "Python 3 (ipykernel)",
   "language": "python",
   "name": "python3"
  },
  "language_info": {
   "codemirror_mode": {
    "name": "ipython",
    "version": 3
   },
   "file_extension": ".py",
   "mimetype": "text/x-python",
   "name": "python",
   "nbconvert_exporter": "python",
   "pygments_lexer": "ipython3",
   "version": "3.9.5"
  }
 },
 "nbformat": 4,
 "nbformat_minor": 5
}
