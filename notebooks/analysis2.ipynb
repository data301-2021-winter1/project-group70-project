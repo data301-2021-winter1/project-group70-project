{
 "cells": [
  {
   "cell_type": "markdown",
   "metadata": {
    "tags": []
   },
   "source": [
    "# Tara Behnsen"
   ]
  },
  {
   "cell_type": "markdown",
   "metadata": {
    "tags": []
   },
   "source": [
    "## Research question/interests\r",
    "I want to know how total precipitation in Kelowna changes over time under different carbon dioxide emission scenarios. \n",
    "\n",
    "My research questions are:\n",
    "- What is the typical annual precipitation in Kelowna between 1950 and 2005?\n",
    "- How does this compare with the projected annual precipitation, taking into account the 3 RCPs?\n",
    "- How is precipitation expected to change in the future?\n",
    "- What is the effect of controlling carbon dioxide emissions on precipitation in Kelowna?."
   ]
  },
  {
   "cell_type": "code",
   "execution_count": 1,
   "metadata": {},
   "outputs": [],
   "source": [
    "import pandas as pd"
   ]
  },
  {
   "cell_type": "code",
   "execution_count": 2,
   "metadata": {},
   "outputs": [],
   "source": [
    "prec = pd.read_csv('../data/raw/Total_Precitation.csv')"
   ]
  },
  {
   "cell_type": "code",
   "execution_count": 3,
   "metadata": {},
   "outputs": [
    {
     "data": {
      "text/html": [
       "<div>\n",
       "<style scoped>\n",
       "    .dataframe tbody tr th:only-of-type {\n",
       "        vertical-align: middle;\n",
       "    }\n",
       "\n",
       "    .dataframe tbody tr th {\n",
       "        vertical-align: top;\n",
       "    }\n",
       "\n",
       "    .dataframe thead th {\n",
       "        text-align: right;\n",
       "    }\n",
       "</style>\n",
       "<table border=\"1\" class=\"dataframe\">\n",
       "  <thead>\n",
       "    <tr style=\"text-align: right;\">\n",
       "      <th></th>\n",
       "      <th>DateTime</th>\n",
       "      <th>Modeled Historical</th>\n",
       "      <th>Historical Range (low)</th>\n",
       "      <th>Historical Range (high)</th>\n",
       "      <th>RCP 2.6 Median</th>\n",
       "      <th>RCP 2.6 Range (low)</th>\n",
       "      <th>RCP 2.6 Range (high)</th>\n",
       "      <th>RCP 4.5 Median</th>\n",
       "      <th>RCP 4.5 Range (low)</th>\n",
       "      <th>RCP 4.5 Range (high)</th>\n",
       "      <th>RCP 8.5 Median</th>\n",
       "      <th>RCP 8.5 Range (low)</th>\n",
       "      <th>RCP 8.5 Range (high)</th>\n",
       "    </tr>\n",
       "  </thead>\n",
       "  <tbody>\n",
       "    <tr>\n",
       "      <th>0</th>\n",
       "      <td>1950-01-01</td>\n",
       "      <td>333.11</td>\n",
       "      <td>273.47</td>\n",
       "      <td>435.13</td>\n",
       "      <td>NaN</td>\n",
       "      <td>NaN</td>\n",
       "      <td>NaN</td>\n",
       "      <td>NaN</td>\n",
       "      <td>NaN</td>\n",
       "      <td>NaN</td>\n",
       "      <td>NaN</td>\n",
       "      <td>NaN</td>\n",
       "      <td>NaN</td>\n",
       "    </tr>\n",
       "    <tr>\n",
       "      <th>1</th>\n",
       "      <td>1951-01-01</td>\n",
       "      <td>338.44</td>\n",
       "      <td>280.55</td>\n",
       "      <td>419.58</td>\n",
       "      <td>NaN</td>\n",
       "      <td>NaN</td>\n",
       "      <td>NaN</td>\n",
       "      <td>NaN</td>\n",
       "      <td>NaN</td>\n",
       "      <td>NaN</td>\n",
       "      <td>NaN</td>\n",
       "      <td>NaN</td>\n",
       "      <td>NaN</td>\n",
       "    </tr>\n",
       "    <tr>\n",
       "      <th>2</th>\n",
       "      <td>1952-01-01</td>\n",
       "      <td>344.11</td>\n",
       "      <td>266.32</td>\n",
       "      <td>402.02</td>\n",
       "      <td>NaN</td>\n",
       "      <td>NaN</td>\n",
       "      <td>NaN</td>\n",
       "      <td>NaN</td>\n",
       "      <td>NaN</td>\n",
       "      <td>NaN</td>\n",
       "      <td>NaN</td>\n",
       "      <td>NaN</td>\n",
       "      <td>NaN</td>\n",
       "    </tr>\n",
       "    <tr>\n",
       "      <th>3</th>\n",
       "      <td>1953-01-01</td>\n",
       "      <td>362.26</td>\n",
       "      <td>299.86</td>\n",
       "      <td>412.38</td>\n",
       "      <td>NaN</td>\n",
       "      <td>NaN</td>\n",
       "      <td>NaN</td>\n",
       "      <td>NaN</td>\n",
       "      <td>NaN</td>\n",
       "      <td>NaN</td>\n",
       "      <td>NaN</td>\n",
       "      <td>NaN</td>\n",
       "      <td>NaN</td>\n",
       "    </tr>\n",
       "    <tr>\n",
       "      <th>4</th>\n",
       "      <td>1954-01-01</td>\n",
       "      <td>342.15</td>\n",
       "      <td>287.69</td>\n",
       "      <td>416.38</td>\n",
       "      <td>NaN</td>\n",
       "      <td>NaN</td>\n",
       "      <td>NaN</td>\n",
       "      <td>NaN</td>\n",
       "      <td>NaN</td>\n",
       "      <td>NaN</td>\n",
       "      <td>NaN</td>\n",
       "      <td>NaN</td>\n",
       "      <td>NaN</td>\n",
       "    </tr>\n",
       "    <tr>\n",
       "      <th>...</th>\n",
       "      <td>...</td>\n",
       "      <td>...</td>\n",
       "      <td>...</td>\n",
       "      <td>...</td>\n",
       "      <td>...</td>\n",
       "      <td>...</td>\n",
       "      <td>...</td>\n",
       "      <td>...</td>\n",
       "      <td>...</td>\n",
       "      <td>...</td>\n",
       "      <td>...</td>\n",
       "      <td>...</td>\n",
       "      <td>...</td>\n",
       "    </tr>\n",
       "    <tr>\n",
       "      <th>146</th>\n",
       "      <td>2096-01-01</td>\n",
       "      <td>NaN</td>\n",
       "      <td>NaN</td>\n",
       "      <td>NaN</td>\n",
       "      <td>338.45</td>\n",
       "      <td>281.54</td>\n",
       "      <td>480.16</td>\n",
       "      <td>401.70</td>\n",
       "      <td>313.04</td>\n",
       "      <td>507.91</td>\n",
       "      <td>371.96</td>\n",
       "      <td>309.73</td>\n",
       "      <td>472.78</td>\n",
       "    </tr>\n",
       "    <tr>\n",
       "      <th>147</th>\n",
       "      <td>2097-01-01</td>\n",
       "      <td>NaN</td>\n",
       "      <td>NaN</td>\n",
       "      <td>NaN</td>\n",
       "      <td>378.45</td>\n",
       "      <td>313.31</td>\n",
       "      <td>511.54</td>\n",
       "      <td>354.82</td>\n",
       "      <td>279.74</td>\n",
       "      <td>456.37</td>\n",
       "      <td>375.05</td>\n",
       "      <td>289.02</td>\n",
       "      <td>496.29</td>\n",
       "    </tr>\n",
       "    <tr>\n",
       "      <th>148</th>\n",
       "      <td>2098-01-01</td>\n",
       "      <td>NaN</td>\n",
       "      <td>NaN</td>\n",
       "      <td>NaN</td>\n",
       "      <td>366.73</td>\n",
       "      <td>289.75</td>\n",
       "      <td>429.62</td>\n",
       "      <td>380.23</td>\n",
       "      <td>323.85</td>\n",
       "      <td>496.79</td>\n",
       "      <td>376.75</td>\n",
       "      <td>333.71</td>\n",
       "      <td>431.17</td>\n",
       "    </tr>\n",
       "    <tr>\n",
       "      <th>149</th>\n",
       "      <td>2099-01-01</td>\n",
       "      <td>NaN</td>\n",
       "      <td>NaN</td>\n",
       "      <td>NaN</td>\n",
       "      <td>371.09</td>\n",
       "      <td>311.06</td>\n",
       "      <td>438.76</td>\n",
       "      <td>376.60</td>\n",
       "      <td>277.29</td>\n",
       "      <td>458.75</td>\n",
       "      <td>404.15</td>\n",
       "      <td>302.67</td>\n",
       "      <td>514.09</td>\n",
       "    </tr>\n",
       "    <tr>\n",
       "      <th>150</th>\n",
       "      <td>2100-01-01</td>\n",
       "      <td>NaN</td>\n",
       "      <td>NaN</td>\n",
       "      <td>NaN</td>\n",
       "      <td>365.26</td>\n",
       "      <td>298.92</td>\n",
       "      <td>471.47</td>\n",
       "      <td>376.95</td>\n",
       "      <td>321.41</td>\n",
       "      <td>479.74</td>\n",
       "      <td>401.81</td>\n",
       "      <td>279.14</td>\n",
       "      <td>480.02</td>\n",
       "    </tr>\n",
       "  </tbody>\n",
       "</table>\n",
       "<p>151 rows × 13 columns</p>\n",
       "</div>"
      ],
      "text/plain": [
       "       DateTime  Modeled Historical  Historical Range (low)  \\\n",
       "0    1950-01-01              333.11                  273.47   \n",
       "1    1951-01-01              338.44                  280.55   \n",
       "2    1952-01-01              344.11                  266.32   \n",
       "3    1953-01-01              362.26                  299.86   \n",
       "4    1954-01-01              342.15                  287.69   \n",
       "..          ...                 ...                     ...   \n",
       "146  2096-01-01                 NaN                     NaN   \n",
       "147  2097-01-01                 NaN                     NaN   \n",
       "148  2098-01-01                 NaN                     NaN   \n",
       "149  2099-01-01                 NaN                     NaN   \n",
       "150  2100-01-01                 NaN                     NaN   \n",
       "\n",
       "     Historical Range (high)  RCP 2.6 Median  RCP 2.6 Range (low)  \\\n",
       "0                     435.13             NaN                  NaN   \n",
       "1                     419.58             NaN                  NaN   \n",
       "2                     402.02             NaN                  NaN   \n",
       "3                     412.38             NaN                  NaN   \n",
       "4                     416.38             NaN                  NaN   \n",
       "..                       ...             ...                  ...   \n",
       "146                      NaN          338.45               281.54   \n",
       "147                      NaN          378.45               313.31   \n",
       "148                      NaN          366.73               289.75   \n",
       "149                      NaN          371.09               311.06   \n",
       "150                      NaN          365.26               298.92   \n",
       "\n",
       "     RCP 2.6 Range (high)  RCP 4.5 Median  RCP 4.5 Range (low)  \\\n",
       "0                     NaN             NaN                  NaN   \n",
       "1                     NaN             NaN                  NaN   \n",
       "2                     NaN             NaN                  NaN   \n",
       "3                     NaN             NaN                  NaN   \n",
       "4                     NaN             NaN                  NaN   \n",
       "..                    ...             ...                  ...   \n",
       "146                480.16          401.70               313.04   \n",
       "147                511.54          354.82               279.74   \n",
       "148                429.62          380.23               323.85   \n",
       "149                438.76          376.60               277.29   \n",
       "150                471.47          376.95               321.41   \n",
       "\n",
       "     RCP 4.5 Range (high)  RCP 8.5 Median  RCP 8.5 Range (low)  \\\n",
       "0                     NaN             NaN                  NaN   \n",
       "1                     NaN             NaN                  NaN   \n",
       "2                     NaN             NaN                  NaN   \n",
       "3                     NaN             NaN                  NaN   \n",
       "4                     NaN             NaN                  NaN   \n",
       "..                    ...             ...                  ...   \n",
       "146                507.91          371.96               309.73   \n",
       "147                456.37          375.05               289.02   \n",
       "148                496.79          376.75               333.71   \n",
       "149                458.75          404.15               302.67   \n",
       "150                479.74          401.81               279.14   \n",
       "\n",
       "     RCP 8.5 Range (high)  \n",
       "0                     NaN  \n",
       "1                     NaN  \n",
       "2                     NaN  \n",
       "3                     NaN  \n",
       "4                     NaN  \n",
       "..                    ...  \n",
       "146                472.78  \n",
       "147                496.29  \n",
       "148                431.17  \n",
       "149                514.09  \n",
       "150                480.02  \n",
       "\n",
       "[151 rows x 13 columns]"
      ]
     },
     "execution_count": 3,
     "metadata": {},
     "output_type": "execute_result"
    }
   ],
   "source": [
    "prec"
   ]
  },
  {
   "cell_type": "markdown",
   "metadata": {},
   "source": [
    "# Milestone 3"
   ]
  },
  {
   "cell_type": "markdown",
   "metadata": {},
   "source": [
    "### Task 1 - Exploratory Data Analysis "
   ]
  },
  {
   "cell_type": "code",
   "execution_count": 4,
   "metadata": {},
   "outputs": [],
   "source": [
    "#Import Necessary Libraries\n",
    "import numpy as np\n",
    "import pandas as pd\n",
    "import seaborn as sns\n",
    "import matplotlib.pylab as plt"
   ]
  },
  {
   "cell_type": "code",
   "execution_count": 5,
   "metadata": {},
   "outputs": [
    {
     "name": "stdout",
     "output_type": "stream",
     "text": [
      "The columns in this dataset are: Index(['DateTime', 'Modeled Historical', 'Historical Range (low)',\n",
      "       'Historical Range (high)', 'RCP 2.6 Median', 'RCP 2.6 Range (low)',\n",
      "       'RCP 2.6 Range (high)', 'RCP 4.5 Median', 'RCP 4.5 Range (low)',\n",
      "       'RCP 4.5 Range (high)', 'RCP 8.5 Median', 'RCP 8.5 Range (low)',\n",
      "       'RCP 8.5 Range (high)'],\n",
      "      dtype='object')\n"
     ]
    }
   ],
   "source": [
    "print(\"The columns in this dataset are:\", prec.columns)"
   ]
  },
  {
   "cell_type": "code",
   "execution_count": 6,
   "metadata": {},
   "outputs": [
    {
     "name": "stdout",
     "output_type": "stream",
     "text": [
      "The total rows and columns are: (151, 13)\n"
     ]
    }
   ],
   "source": [
    "print(\"The total rows and columns are:\", prec.shape)"
   ]
  },
  {
   "cell_type": "code",
   "execution_count": 7,
   "metadata": {},
   "outputs": [
    {
     "name": "stdout",
     "output_type": "stream",
     "text": [
      "The data types are: DateTime                    object\n",
      "Modeled Historical         float64\n",
      "Historical Range (low)     float64\n",
      "Historical Range (high)    float64\n",
      "RCP 2.6 Median             float64\n",
      "RCP 2.6 Range (low)        float64\n",
      "RCP 2.6 Range (high)       float64\n",
      "RCP 4.5 Median             float64\n",
      "RCP 4.5 Range (low)        float64\n",
      "RCP 4.5 Range (high)       float64\n",
      "RCP 8.5 Median             float64\n",
      "RCP 8.5 Range (low)        float64\n",
      "RCP 8.5 Range (high)       float64\n",
      "dtype: object\n"
     ]
    }
   ],
   "source": [
    "print(\"The data types are:\", prec.dtypes)"
   ]
  },
  {
   "cell_type": "code",
   "execution_count": 8,
   "metadata": {},
   "outputs": [
    {
     "data": {
      "text/html": [
       "<div>\n",
       "<style scoped>\n",
       "    .dataframe tbody tr th:only-of-type {\n",
       "        vertical-align: middle;\n",
       "    }\n",
       "\n",
       "    .dataframe tbody tr th {\n",
       "        vertical-align: top;\n",
       "    }\n",
       "\n",
       "    .dataframe thead th {\n",
       "        text-align: right;\n",
       "    }\n",
       "</style>\n",
       "<table border=\"1\" class=\"dataframe\">\n",
       "  <thead>\n",
       "    <tr style=\"text-align: right;\">\n",
       "      <th></th>\n",
       "      <th>Modeled Historical</th>\n",
       "      <th>Historical Range (low)</th>\n",
       "      <th>Historical Range (high)</th>\n",
       "      <th>RCP 2.6 Median</th>\n",
       "      <th>RCP 2.6 Range (low)</th>\n",
       "      <th>RCP 2.6 Range (high)</th>\n",
       "      <th>RCP 4.5 Median</th>\n",
       "      <th>RCP 4.5 Range (low)</th>\n",
       "      <th>RCP 4.5 Range (high)</th>\n",
       "      <th>RCP 8.5 Median</th>\n",
       "      <th>RCP 8.5 Range (low)</th>\n",
       "      <th>RCP 8.5 Range (high)</th>\n",
       "    </tr>\n",
       "  </thead>\n",
       "  <tbody>\n",
       "    <tr>\n",
       "      <th>count</th>\n",
       "      <td>56.000000</td>\n",
       "      <td>56.000000</td>\n",
       "      <td>56.000000</td>\n",
       "      <td>96.000000</td>\n",
       "      <td>96.000000</td>\n",
       "      <td>96.000000</td>\n",
       "      <td>96.000000</td>\n",
       "      <td>96.000000</td>\n",
       "      <td>96.000000</td>\n",
       "      <td>96.000000</td>\n",
       "      <td>96.000000</td>\n",
       "      <td>96.000000</td>\n",
       "    </tr>\n",
       "    <tr>\n",
       "      <th>mean</th>\n",
       "      <td>350.142321</td>\n",
       "      <td>282.535893</td>\n",
       "      <td>430.756071</td>\n",
       "      <td>367.251146</td>\n",
       "      <td>296.015000</td>\n",
       "      <td>454.098125</td>\n",
       "      <td>369.292083</td>\n",
       "      <td>294.144792</td>\n",
       "      <td>459.269792</td>\n",
       "      <td>376.090938</td>\n",
       "      <td>297.614167</td>\n",
       "      <td>468.098542</td>\n",
       "    </tr>\n",
       "    <tr>\n",
       "      <th>std</th>\n",
       "      <td>14.540455</td>\n",
       "      <td>20.592176</td>\n",
       "      <td>16.258099</td>\n",
       "      <td>15.889919</td>\n",
       "      <td>19.122845</td>\n",
       "      <td>25.360481</td>\n",
       "      <td>19.284952</td>\n",
       "      <td>21.526850</td>\n",
       "      <td>29.251862</td>\n",
       "      <td>21.017524</td>\n",
       "      <td>21.902144</td>\n",
       "      <td>30.331612</td>\n",
       "    </tr>\n",
       "    <tr>\n",
       "      <th>min</th>\n",
       "      <td>311.480000</td>\n",
       "      <td>218.790000</td>\n",
       "      <td>392.310000</td>\n",
       "      <td>336.320000</td>\n",
       "      <td>237.250000</td>\n",
       "      <td>377.360000</td>\n",
       "      <td>325.870000</td>\n",
       "      <td>248.820000</td>\n",
       "      <td>375.930000</td>\n",
       "      <td>326.340000</td>\n",
       "      <td>244.080000</td>\n",
       "      <td>410.410000</td>\n",
       "    </tr>\n",
       "    <tr>\n",
       "      <th>25%</th>\n",
       "      <td>339.082500</td>\n",
       "      <td>271.987500</td>\n",
       "      <td>419.677500</td>\n",
       "      <td>358.617500</td>\n",
       "      <td>283.035000</td>\n",
       "      <td>437.240000</td>\n",
       "      <td>355.007500</td>\n",
       "      <td>279.815000</td>\n",
       "      <td>437.182500</td>\n",
       "      <td>361.017500</td>\n",
       "      <td>282.832500</td>\n",
       "      <td>446.002500</td>\n",
       "    </tr>\n",
       "    <tr>\n",
       "      <th>50%</th>\n",
       "      <td>345.735000</td>\n",
       "      <td>282.855000</td>\n",
       "      <td>431.550000</td>\n",
       "      <td>366.490000</td>\n",
       "      <td>296.485000</td>\n",
       "      <td>450.795000</td>\n",
       "      <td>368.780000</td>\n",
       "      <td>295.520000</td>\n",
       "      <td>459.405000</td>\n",
       "      <td>374.840000</td>\n",
       "      <td>297.730000</td>\n",
       "      <td>466.690000</td>\n",
       "    </tr>\n",
       "    <tr>\n",
       "      <th>75%</th>\n",
       "      <td>362.252500</td>\n",
       "      <td>296.110000</td>\n",
       "      <td>440.627500</td>\n",
       "      <td>377.635000</td>\n",
       "      <td>307.902500</td>\n",
       "      <td>468.575000</td>\n",
       "      <td>382.435000</td>\n",
       "      <td>309.642500</td>\n",
       "      <td>480.720000</td>\n",
       "      <td>388.585000</td>\n",
       "      <td>310.837500</td>\n",
       "      <td>485.810000</td>\n",
       "    </tr>\n",
       "    <tr>\n",
       "      <th>max</th>\n",
       "      <td>379.950000</td>\n",
       "      <td>337.760000</td>\n",
       "      <td>462.290000</td>\n",
       "      <td>413.080000</td>\n",
       "      <td>360.170000</td>\n",
       "      <td>531.800000</td>\n",
       "      <td>422.750000</td>\n",
       "      <td>350.670000</td>\n",
       "      <td>533.040000</td>\n",
       "      <td>434.310000</td>\n",
       "      <td>355.770000</td>\n",
       "      <td>553.780000</td>\n",
       "    </tr>\n",
       "  </tbody>\n",
       "</table>\n",
       "</div>"
      ],
      "text/plain": [
       "       Modeled Historical  Historical Range (low)  Historical Range (high)  \\\n",
       "count           56.000000               56.000000                56.000000   \n",
       "mean           350.142321              282.535893               430.756071   \n",
       "std             14.540455               20.592176                16.258099   \n",
       "min            311.480000              218.790000               392.310000   \n",
       "25%            339.082500              271.987500               419.677500   \n",
       "50%            345.735000              282.855000               431.550000   \n",
       "75%            362.252500              296.110000               440.627500   \n",
       "max            379.950000              337.760000               462.290000   \n",
       "\n",
       "       RCP 2.6 Median  RCP 2.6 Range (low)  RCP 2.6 Range (high)  \\\n",
       "count       96.000000            96.000000             96.000000   \n",
       "mean       367.251146           296.015000            454.098125   \n",
       "std         15.889919            19.122845             25.360481   \n",
       "min        336.320000           237.250000            377.360000   \n",
       "25%        358.617500           283.035000            437.240000   \n",
       "50%        366.490000           296.485000            450.795000   \n",
       "75%        377.635000           307.902500            468.575000   \n",
       "max        413.080000           360.170000            531.800000   \n",
       "\n",
       "       RCP 4.5 Median  RCP 4.5 Range (low)  RCP 4.5 Range (high)  \\\n",
       "count       96.000000            96.000000             96.000000   \n",
       "mean       369.292083           294.144792            459.269792   \n",
       "std         19.284952            21.526850             29.251862   \n",
       "min        325.870000           248.820000            375.930000   \n",
       "25%        355.007500           279.815000            437.182500   \n",
       "50%        368.780000           295.520000            459.405000   \n",
       "75%        382.435000           309.642500            480.720000   \n",
       "max        422.750000           350.670000            533.040000   \n",
       "\n",
       "       RCP 8.5 Median  RCP 8.5 Range (low)  RCP 8.5 Range (high)  \n",
       "count       96.000000            96.000000             96.000000  \n",
       "mean       376.090938           297.614167            468.098542  \n",
       "std         21.017524            21.902144             30.331612  \n",
       "min        326.340000           244.080000            410.410000  \n",
       "25%        361.017500           282.832500            446.002500  \n",
       "50%        374.840000           297.730000            466.690000  \n",
       "75%        388.585000           310.837500            485.810000  \n",
       "max        434.310000           355.770000            553.780000  "
      ]
     },
     "execution_count": 8,
     "metadata": {},
     "output_type": "execute_result"
    }
   ],
   "source": [
    "prec.describe()"
   ]
  },
  {
   "cell_type": "code",
   "execution_count": 9,
   "metadata": {},
   "outputs": [
    {
     "data": {
      "text/html": [
       "<div>\n",
       "<style scoped>\n",
       "    .dataframe tbody tr th:only-of-type {\n",
       "        vertical-align: middle;\n",
       "    }\n",
       "\n",
       "    .dataframe tbody tr th {\n",
       "        vertical-align: top;\n",
       "    }\n",
       "\n",
       "    .dataframe thead th {\n",
       "        text-align: right;\n",
       "    }\n",
       "</style>\n",
       "<table border=\"1\" class=\"dataframe\">\n",
       "  <thead>\n",
       "    <tr style=\"text-align: right;\">\n",
       "      <th></th>\n",
       "      <th>DateTime</th>\n",
       "      <th>Modeled Historical</th>\n",
       "      <th>Historical Range (low)</th>\n",
       "      <th>Historical Range (high)</th>\n",
       "      <th>RCP 2.6 Median</th>\n",
       "      <th>RCP 2.6 Range (low)</th>\n",
       "      <th>RCP 2.6 Range (high)</th>\n",
       "      <th>RCP 4.5 Median</th>\n",
       "      <th>RCP 4.5 Range (low)</th>\n",
       "      <th>RCP 4.5 Range (high)</th>\n",
       "      <th>RCP 8.5 Median</th>\n",
       "      <th>RCP 8.5 Range (low)</th>\n",
       "      <th>RCP 8.5 Range (high)</th>\n",
       "    </tr>\n",
       "  </thead>\n",
       "  <tbody>\n",
       "    <tr>\n",
       "      <th>0</th>\n",
       "      <td>1950-01-01</td>\n",
       "      <td>333.11</td>\n",
       "      <td>273.47</td>\n",
       "      <td>435.13</td>\n",
       "      <td>NaN</td>\n",
       "      <td>NaN</td>\n",
       "      <td>NaN</td>\n",
       "      <td>NaN</td>\n",
       "      <td>NaN</td>\n",
       "      <td>NaN</td>\n",
       "      <td>NaN</td>\n",
       "      <td>NaN</td>\n",
       "      <td>NaN</td>\n",
       "    </tr>\n",
       "    <tr>\n",
       "      <th>1</th>\n",
       "      <td>1951-01-01</td>\n",
       "      <td>338.44</td>\n",
       "      <td>280.55</td>\n",
       "      <td>419.58</td>\n",
       "      <td>NaN</td>\n",
       "      <td>NaN</td>\n",
       "      <td>NaN</td>\n",
       "      <td>NaN</td>\n",
       "      <td>NaN</td>\n",
       "      <td>NaN</td>\n",
       "      <td>NaN</td>\n",
       "      <td>NaN</td>\n",
       "      <td>NaN</td>\n",
       "    </tr>\n",
       "    <tr>\n",
       "      <th>2</th>\n",
       "      <td>1952-01-01</td>\n",
       "      <td>344.11</td>\n",
       "      <td>266.32</td>\n",
       "      <td>402.02</td>\n",
       "      <td>NaN</td>\n",
       "      <td>NaN</td>\n",
       "      <td>NaN</td>\n",
       "      <td>NaN</td>\n",
       "      <td>NaN</td>\n",
       "      <td>NaN</td>\n",
       "      <td>NaN</td>\n",
       "      <td>NaN</td>\n",
       "      <td>NaN</td>\n",
       "    </tr>\n",
       "    <tr>\n",
       "      <th>3</th>\n",
       "      <td>1953-01-01</td>\n",
       "      <td>362.26</td>\n",
       "      <td>299.86</td>\n",
       "      <td>412.38</td>\n",
       "      <td>NaN</td>\n",
       "      <td>NaN</td>\n",
       "      <td>NaN</td>\n",
       "      <td>NaN</td>\n",
       "      <td>NaN</td>\n",
       "      <td>NaN</td>\n",
       "      <td>NaN</td>\n",
       "      <td>NaN</td>\n",
       "      <td>NaN</td>\n",
       "    </tr>\n",
       "    <tr>\n",
       "      <th>4</th>\n",
       "      <td>1954-01-01</td>\n",
       "      <td>342.15</td>\n",
       "      <td>287.69</td>\n",
       "      <td>416.38</td>\n",
       "      <td>NaN</td>\n",
       "      <td>NaN</td>\n",
       "      <td>NaN</td>\n",
       "      <td>NaN</td>\n",
       "      <td>NaN</td>\n",
       "      <td>NaN</td>\n",
       "      <td>NaN</td>\n",
       "      <td>NaN</td>\n",
       "      <td>NaN</td>\n",
       "    </tr>\n",
       "  </tbody>\n",
       "</table>\n",
       "</div>"
      ],
      "text/plain": [
       "     DateTime  Modeled Historical  Historical Range (low)  \\\n",
       "0  1950-01-01              333.11                  273.47   \n",
       "1  1951-01-01              338.44                  280.55   \n",
       "2  1952-01-01              344.11                  266.32   \n",
       "3  1953-01-01              362.26                  299.86   \n",
       "4  1954-01-01              342.15                  287.69   \n",
       "\n",
       "   Historical Range (high)  RCP 2.6 Median  RCP 2.6 Range (low)  \\\n",
       "0                   435.13             NaN                  NaN   \n",
       "1                   419.58             NaN                  NaN   \n",
       "2                   402.02             NaN                  NaN   \n",
       "3                   412.38             NaN                  NaN   \n",
       "4                   416.38             NaN                  NaN   \n",
       "\n",
       "   RCP 2.6 Range (high)  RCP 4.5 Median  RCP 4.5 Range (low)  \\\n",
       "0                   NaN             NaN                  NaN   \n",
       "1                   NaN             NaN                  NaN   \n",
       "2                   NaN             NaN                  NaN   \n",
       "3                   NaN             NaN                  NaN   \n",
       "4                   NaN             NaN                  NaN   \n",
       "\n",
       "   RCP 4.5 Range (high)  RCP 8.5 Median  RCP 8.5 Range (low)  \\\n",
       "0                   NaN             NaN                  NaN   \n",
       "1                   NaN             NaN                  NaN   \n",
       "2                   NaN             NaN                  NaN   \n",
       "3                   NaN             NaN                  NaN   \n",
       "4                   NaN             NaN                  NaN   \n",
       "\n",
       "   RCP 8.5 Range (high)  \n",
       "0                   NaN  \n",
       "1                   NaN  \n",
       "2                   NaN  \n",
       "3                   NaN  \n",
       "4                   NaN  "
      ]
     },
     "execution_count": 9,
     "metadata": {},
     "output_type": "execute_result"
    }
   ],
   "source": [
    "prec.head()"
   ]
  },
  {
   "cell_type": "markdown",
   "metadata": {},
   "source": [
    "This description of the total precipitation data shows that there are 56 rows of historical data and 96 rows of projected (future) data. It may be useful to split the dataset here to do analyses for historical and future projections separately. \n",
    "\n",
    "Additionally, from this brief view of the data, there appears to be no major difference in the total precipitation for the three different carbon dioxide emission scenarios (RCP 2.6, RCP 4.5, and RCP 8.5). It will be interesting to explore these differences in more depth to get a better understanding of how limiting climate change could impact future precipitation in Kelowna."
   ]
  },
  {
   "cell_type": "code",
   "execution_count": 10,
   "metadata": {},
   "outputs": [
    {
     "data": {
      "text/plain": [
       "<AxesSubplot:xlabel='DateTime', ylabel='Modeled Historical'>"
      ]
     },
     "execution_count": 10,
     "metadata": {},
     "output_type": "execute_result"
    },
    {
     "data": {
      "image/png": "[encoded data removed]",
      "text/plain": [
       "<Figure size 432x288 with 1 Axes>"
      ]
     },
     "metadata": {
      "needs_background": "light"
     },
     "output_type": "display_data"
    }
   ],
   "source": [
    "prec.plot(kind='scatter', x='DateTime', y='Modeled Historical')"
   ]
  },
  {
   "cell_type": "markdown",
   "metadata": {},
   "source": [
    "A basic scatter plot of the historical data showes no clear relationship between time and total precipitation. Further exploration of the data is necessary. Additionally, this graph shows the dates have to be modified to show only the year to allow for better readability on the x-axis."
   ]
  },
  {
   "cell_type": "markdown",
   "metadata": {},
   "source": [
    "## Task 2 - Set Up Analysis Pipeline\n",
    "### 1. Load Data"
   ]
  },
  {
   "cell_type": "code",
   "execution_count": 11,
   "metadata": {},
   "outputs": [
    {
     "data": {
      "text/plain": [
       "DateTime                    object\n",
       "Modeled Historical         float64\n",
       "Historical Range (low)     float64\n",
       "Historical Range (high)    float64\n",
       "RCP 2.6 Median             float64\n",
       "RCP 2.6 Range (low)        float64\n",
       "RCP 2.6 Range (high)       float64\n",
       "RCP 4.5 Median             float64\n",
       "RCP 4.5 Range (low)        float64\n",
       "RCP 4.5 Range (high)       float64\n",
       "RCP 8.5 Median             float64\n",
       "RCP 8.5 Range (low)        float64\n",
       "RCP 8.5 Range (high)       float64\n",
       "dtype: object"
      ]
     },
     "execution_count": 11,
     "metadata": {},
     "output_type": "execute_result"
    }
   ],
   "source": [
    "#Import Necessary Libraries\n",
    "import numpy as np\n",
    "import pandas as pd\n",
    "import seaborn as sea\n",
    "import matplotlib.pylab as plt\n",
    "\n",
    "#Load Raw Data\n",
    "prec = pd.read_csv('../data/raw/Total_Precitation.csv')\n",
    "\n",
    "#Explore Data Types\n",
    "prec.dtypes"
   ]
  },
  {
   "cell_type": "markdown",
   "metadata": {},
   "source": [
    "### 2. Clean Data"
   ]
  },
  {
   "cell_type": "code",
   "execution_count": 12,
   "metadata": {},
   "outputs": [
    {
     "data": {
      "text/html": [
       "<div>\n",
       "<style scoped>\n",
       "    .dataframe tbody tr th:only-of-type {\n",
       "        vertical-align: middle;\n",
       "    }\n",
       "\n",
       "    .dataframe tbody tr th {\n",
       "        vertical-align: top;\n",
       "    }\n",
       "\n",
       "    .dataframe thead th {\n",
       "        text-align: right;\n",
       "    }\n",
       "</style>\n",
       "<table border=\"1\" class=\"dataframe\">\n",
       "  <thead>\n",
       "    <tr style=\"text-align: right;\">\n",
       "      <th></th>\n",
       "      <th>DateTime</th>\n",
       "      <th>RCP 2.6 Median</th>\n",
       "      <th>RCP 2.6 Range (low)</th>\n",
       "      <th>RCP 2.6 Range (high)</th>\n",
       "      <th>RCP 4.5 Median</th>\n",
       "      <th>RCP 4.5 Range (low)</th>\n",
       "      <th>RCP 4.5 Range (high)</th>\n",
       "      <th>RCP 8.5 Median</th>\n",
       "      <th>RCP 8.5 Range (low)</th>\n",
       "      <th>RCP 8.5 Range (high)</th>\n",
       "    </tr>\n",
       "  </thead>\n",
       "  <tbody>\n",
       "    <tr>\n",
       "      <th>55</th>\n",
       "      <td>2005-01-01</td>\n",
       "      <td>364.69</td>\n",
       "      <td>310.05</td>\n",
       "      <td>428.25</td>\n",
       "      <td>368.01</td>\n",
       "      <td>308.22</td>\n",
       "      <td>416.89</td>\n",
       "      <td>370.39</td>\n",
       "      <td>308.60</td>\n",
       "      <td>432.19</td>\n",
       "    </tr>\n",
       "    <tr>\n",
       "      <th>56</th>\n",
       "      <td>2006-01-01</td>\n",
       "      <td>339.60</td>\n",
       "      <td>275.80</td>\n",
       "      <td>437.96</td>\n",
       "      <td>365.12</td>\n",
       "      <td>281.60</td>\n",
       "      <td>424.60</td>\n",
       "      <td>353.17</td>\n",
       "      <td>305.85</td>\n",
       "      <td>410.41</td>\n",
       "    </tr>\n",
       "    <tr>\n",
       "      <th>57</th>\n",
       "      <td>2007-01-01</td>\n",
       "      <td>347.85</td>\n",
       "      <td>300.87</td>\n",
       "      <td>472.10</td>\n",
       "      <td>346.19</td>\n",
       "      <td>283.91</td>\n",
       "      <td>460.18</td>\n",
       "      <td>357.96</td>\n",
       "      <td>267.49</td>\n",
       "      <td>459.59</td>\n",
       "    </tr>\n",
       "    <tr>\n",
       "      <th>58</th>\n",
       "      <td>2008-01-01</td>\n",
       "      <td>379.77</td>\n",
       "      <td>294.60</td>\n",
       "      <td>417.89</td>\n",
       "      <td>331.62</td>\n",
       "      <td>288.24</td>\n",
       "      <td>417.80</td>\n",
       "      <td>329.39</td>\n",
       "      <td>252.21</td>\n",
       "      <td>433.35</td>\n",
       "    </tr>\n",
       "    <tr>\n",
       "      <th>59</th>\n",
       "      <td>2009-01-01</td>\n",
       "      <td>348.78</td>\n",
       "      <td>293.88</td>\n",
       "      <td>436.16</td>\n",
       "      <td>339.01</td>\n",
       "      <td>274.52</td>\n",
       "      <td>430.41</td>\n",
       "      <td>377.20</td>\n",
       "      <td>339.40</td>\n",
       "      <td>451.90</td>\n",
       "    </tr>\n",
       "    <tr>\n",
       "      <th>...</th>\n",
       "      <td>...</td>\n",
       "      <td>...</td>\n",
       "      <td>...</td>\n",
       "      <td>...</td>\n",
       "      <td>...</td>\n",
       "      <td>...</td>\n",
       "      <td>...</td>\n",
       "      <td>...</td>\n",
       "      <td>...</td>\n",
       "      <td>...</td>\n",
       "    </tr>\n",
       "    <tr>\n",
       "      <th>146</th>\n",
       "      <td>2096-01-01</td>\n",
       "      <td>338.45</td>\n",
       "      <td>281.54</td>\n",
       "      <td>480.16</td>\n",
       "      <td>401.70</td>\n",
       "      <td>313.04</td>\n",
       "      <td>507.91</td>\n",
       "      <td>371.96</td>\n",
       "      <td>309.73</td>\n",
       "      <td>472.78</td>\n",
       "    </tr>\n",
       "    <tr>\n",
       "      <th>147</th>\n",
       "      <td>2097-01-01</td>\n",
       "      <td>378.45</td>\n",
       "      <td>313.31</td>\n",
       "      <td>511.54</td>\n",
       "      <td>354.82</td>\n",
       "      <td>279.74</td>\n",
       "      <td>456.37</td>\n",
       "      <td>375.05</td>\n",
       "      <td>289.02</td>\n",
       "      <td>496.29</td>\n",
       "    </tr>\n",
       "    <tr>\n",
       "      <th>148</th>\n",
       "      <td>2098-01-01</td>\n",
       "      <td>366.73</td>\n",
       "      <td>289.75</td>\n",
       "      <td>429.62</td>\n",
       "      <td>380.23</td>\n",
       "      <td>323.85</td>\n",
       "      <td>496.79</td>\n",
       "      <td>376.75</td>\n",
       "      <td>333.71</td>\n",
       "      <td>431.17</td>\n",
       "    </tr>\n",
       "    <tr>\n",
       "      <th>149</th>\n",
       "      <td>2099-01-01</td>\n",
       "      <td>371.09</td>\n",
       "      <td>311.06</td>\n",
       "      <td>438.76</td>\n",
       "      <td>376.60</td>\n",
       "      <td>277.29</td>\n",
       "      <td>458.75</td>\n",
       "      <td>404.15</td>\n",
       "      <td>302.67</td>\n",
       "      <td>514.09</td>\n",
       "    </tr>\n",
       "    <tr>\n",
       "      <th>150</th>\n",
       "      <td>2100-01-01</td>\n",
       "      <td>365.26</td>\n",
       "      <td>298.92</td>\n",
       "      <td>471.47</td>\n",
       "      <td>376.95</td>\n",
       "      <td>321.41</td>\n",
       "      <td>479.74</td>\n",
       "      <td>401.81</td>\n",
       "      <td>279.14</td>\n",
       "      <td>480.02</td>\n",
       "    </tr>\n",
       "  </tbody>\n",
       "</table>\n",
       "<p>96 rows × 10 columns</p>\n",
       "</div>"
      ],
      "text/plain": [
       "       DateTime  RCP 2.6 Median  RCP 2.6 Range (low)  RCP 2.6 Range (high)  \\\n",
       "55   2005-01-01          364.69               310.05                428.25   \n",
       "56   2006-01-01          339.60               275.80                437.96   \n",
       "57   2007-01-01          347.85               300.87                472.10   \n",
       "58   2008-01-01          379.77               294.60                417.89   \n",
       "59   2009-01-01          348.78               293.88                436.16   \n",
       "..          ...             ...                  ...                   ...   \n",
       "146  2096-01-01          338.45               281.54                480.16   \n",
       "147  2097-01-01          378.45               313.31                511.54   \n",
       "148  2098-01-01          366.73               289.75                429.62   \n",
       "149  2099-01-01          371.09               311.06                438.76   \n",
       "150  2100-01-01          365.26               298.92                471.47   \n",
       "\n",
       "     RCP 4.5 Median  RCP 4.5 Range (low)  RCP 4.5 Range (high)  \\\n",
       "55           368.01               308.22                416.89   \n",
       "56           365.12               281.60                424.60   \n",
       "57           346.19               283.91                460.18   \n",
       "58           331.62               288.24                417.80   \n",
       "59           339.01               274.52                430.41   \n",
       "..              ...                  ...                   ...   \n",
       "146          401.70               313.04                507.91   \n",
       "147          354.82               279.74                456.37   \n",
       "148          380.23               323.85                496.79   \n",
       "149          376.60               277.29                458.75   \n",
       "150          376.95               321.41                479.74   \n",
       "\n",
       "     RCP 8.5 Median  RCP 8.5 Range (low)  RCP 8.5 Range (high)  \n",
       "55           370.39               308.60                432.19  \n",
       "56           353.17               305.85                410.41  \n",
       "57           357.96               267.49                459.59  \n",
       "58           329.39               252.21                433.35  \n",
       "59           377.20               339.40                451.90  \n",
       "..              ...                  ...                   ...  \n",
       "146          371.96               309.73                472.78  \n",
       "147          375.05               289.02                496.29  \n",
       "148          376.75               333.71                431.17  \n",
       "149          404.15               302.67                514.09  \n",
       "150          401.81               279.14                480.02  \n",
       "\n",
       "[96 rows x 10 columns]"
      ]
     },
     "execution_count": 12,
     "metadata": {},
     "output_type": "execute_result"
    }
   ],
   "source": [
    "#Creating new dataframes for historical (H) and future (F) projections\n",
    "prec_Future= prec[55:151]\n",
    "prec_Historical = prec[0:56]\n",
    "\n",
    "# Remove null values \n",
    "H_precipitation = prec_Historical.dropna(axis='columns', how ='any')\n",
    "F_precipitation = prec_Future.dropna(axis='columns', how ='any')\n",
    "\n",
    "F_precipitation"
   ]
  },
  {
   "cell_type": "markdown",
   "metadata": {},
   "source": [
    "### 3. Process Data\n"
   ]
  },
  {
   "cell_type": "code",
   "execution_count": 13,
   "metadata": {},
   "outputs": [
    {
     "name": "stderr",
     "output_type": "stream",
     "text": [
      "C:\\Users\\bfrid\\AppData\\Local\\Temp/ipykernel_27104/3286443244.py:6: SettingWithCopyWarning: \n",
      "A value is trying to be set on a copy of a slice from a DataFrame\n",
      "\n",
      "See the caveats in the documentation: https://pandas.pydata.org/pandas-docs/stable/user_guide/indexing.html#returning-a-view-versus-a-copy\n",
      "  H_precipitation[\"DateTime\"][x]=i\n",
      "C:\\Users\\bfrid\\AppData\\Local\\Temp/ipykernel_27104/3286443244.py:13: SettingWithCopyWarning: \n",
      "A value is trying to be set on a copy of a slice from a DataFrame\n",
      "\n",
      "See the caveats in the documentation: https://pandas.pydata.org/pandas-docs/stable/user_guide/indexing.html#returning-a-view-versus-a-copy\n",
      "  F_precipitation[\"DateTime\"][x]=i\n"
     ]
    },
    {
     "data": {
      "text/html": [
       "<div>\n",
       "<style scoped>\n",
       "    .dataframe tbody tr th:only-of-type {\n",
       "        vertical-align: middle;\n",
       "    }\n",
       "\n",
       "    .dataframe tbody tr th {\n",
       "        vertical-align: top;\n",
       "    }\n",
       "\n",
       "    .dataframe thead th {\n",
       "        text-align: right;\n",
       "    }\n",
       "</style>\n",
       "<table border=\"1\" class=\"dataframe\">\n",
       "  <thead>\n",
       "    <tr style=\"text-align: right;\">\n",
       "      <th></th>\n",
       "      <th>DateTime</th>\n",
       "      <th>RCP 2.6 Median</th>\n",
       "      <th>RCP 2.6 Range (low)</th>\n",
       "      <th>RCP 2.6 Range (high)</th>\n",
       "      <th>RCP 4.5 Median</th>\n",
       "      <th>RCP 4.5 Range (low)</th>\n",
       "      <th>RCP 4.5 Range (high)</th>\n",
       "      <th>RCP 8.5 Median</th>\n",
       "      <th>RCP 8.5 Range (low)</th>\n",
       "      <th>RCP 8.5 Range (high)</th>\n",
       "    </tr>\n",
       "  </thead>\n",
       "  <tbody>\n",
       "    <tr>\n",
       "      <th>55</th>\n",
       "      <td>2005</td>\n",
       "      <td>364.69</td>\n",
       "      <td>310.05</td>\n",
       "      <td>428.25</td>\n",
       "      <td>368.01</td>\n",
       "      <td>308.22</td>\n",
       "      <td>416.89</td>\n",
       "      <td>370.39</td>\n",
       "      <td>308.60</td>\n",
       "      <td>432.19</td>\n",
       "    </tr>\n",
       "    <tr>\n",
       "      <th>56</th>\n",
       "      <td>2006</td>\n",
       "      <td>339.60</td>\n",
       "      <td>275.80</td>\n",
       "      <td>437.96</td>\n",
       "      <td>365.12</td>\n",
       "      <td>281.60</td>\n",
       "      <td>424.60</td>\n",
       "      <td>353.17</td>\n",
       "      <td>305.85</td>\n",
       "      <td>410.41</td>\n",
       "    </tr>\n",
       "    <tr>\n",
       "      <th>57</th>\n",
       "      <td>2007</td>\n",
       "      <td>347.85</td>\n",
       "      <td>300.87</td>\n",
       "      <td>472.10</td>\n",
       "      <td>346.19</td>\n",
       "      <td>283.91</td>\n",
       "      <td>460.18</td>\n",
       "      <td>357.96</td>\n",
       "      <td>267.49</td>\n",
       "      <td>459.59</td>\n",
       "    </tr>\n",
       "    <tr>\n",
       "      <th>58</th>\n",
       "      <td>2008</td>\n",
       "      <td>379.77</td>\n",
       "      <td>294.60</td>\n",
       "      <td>417.89</td>\n",
       "      <td>331.62</td>\n",
       "      <td>288.24</td>\n",
       "      <td>417.80</td>\n",
       "      <td>329.39</td>\n",
       "      <td>252.21</td>\n",
       "      <td>433.35</td>\n",
       "    </tr>\n",
       "    <tr>\n",
       "      <th>59</th>\n",
       "      <td>2009</td>\n",
       "      <td>348.78</td>\n",
       "      <td>293.88</td>\n",
       "      <td>436.16</td>\n",
       "      <td>339.01</td>\n",
       "      <td>274.52</td>\n",
       "      <td>430.41</td>\n",
       "      <td>377.20</td>\n",
       "      <td>339.40</td>\n",
       "      <td>451.90</td>\n",
       "    </tr>\n",
       "    <tr>\n",
       "      <th>...</th>\n",
       "      <td>...</td>\n",
       "      <td>...</td>\n",
       "      <td>...</td>\n",
       "      <td>...</td>\n",
       "      <td>...</td>\n",
       "      <td>...</td>\n",
       "      <td>...</td>\n",
       "      <td>...</td>\n",
       "      <td>...</td>\n",
       "      <td>...</td>\n",
       "    </tr>\n",
       "    <tr>\n",
       "      <th>146</th>\n",
       "      <td>2096</td>\n",
       "      <td>338.45</td>\n",
       "      <td>281.54</td>\n",
       "      <td>480.16</td>\n",
       "      <td>401.70</td>\n",
       "      <td>313.04</td>\n",
       "      <td>507.91</td>\n",
       "      <td>371.96</td>\n",
       "      <td>309.73</td>\n",
       "      <td>472.78</td>\n",
       "    </tr>\n",
       "    <tr>\n",
       "      <th>147</th>\n",
       "      <td>2097</td>\n",
       "      <td>378.45</td>\n",
       "      <td>313.31</td>\n",
       "      <td>511.54</td>\n",
       "      <td>354.82</td>\n",
       "      <td>279.74</td>\n",
       "      <td>456.37</td>\n",
       "      <td>375.05</td>\n",
       "      <td>289.02</td>\n",
       "      <td>496.29</td>\n",
       "    </tr>\n",
       "    <tr>\n",
       "      <th>148</th>\n",
       "      <td>2098</td>\n",
       "      <td>366.73</td>\n",
       "      <td>289.75</td>\n",
       "      <td>429.62</td>\n",
       "      <td>380.23</td>\n",
       "      <td>323.85</td>\n",
       "      <td>496.79</td>\n",
       "      <td>376.75</td>\n",
       "      <td>333.71</td>\n",
       "      <td>431.17</td>\n",
       "    </tr>\n",
       "    <tr>\n",
       "      <th>149</th>\n",
       "      <td>2099</td>\n",
       "      <td>371.09</td>\n",
       "      <td>311.06</td>\n",
       "      <td>438.76</td>\n",
       "      <td>376.60</td>\n",
       "      <td>277.29</td>\n",
       "      <td>458.75</td>\n",
       "      <td>404.15</td>\n",
       "      <td>302.67</td>\n",
       "      <td>514.09</td>\n",
       "    </tr>\n",
       "    <tr>\n",
       "      <th>150</th>\n",
       "      <td>2100</td>\n",
       "      <td>365.26</td>\n",
       "      <td>298.92</td>\n",
       "      <td>471.47</td>\n",
       "      <td>376.95</td>\n",
       "      <td>321.41</td>\n",
       "      <td>479.74</td>\n",
       "      <td>401.81</td>\n",
       "      <td>279.14</td>\n",
       "      <td>480.02</td>\n",
       "    </tr>\n",
       "  </tbody>\n",
       "</table>\n",
       "<p>96 rows × 10 columns</p>\n",
       "</div>"
      ],
      "text/plain": [
       "    DateTime  RCP 2.6 Median  RCP 2.6 Range (low)  RCP 2.6 Range (high)  \\\n",
       "55      2005          364.69               310.05                428.25   \n",
       "56      2006          339.60               275.80                437.96   \n",
       "57      2007          347.85               300.87                472.10   \n",
       "58      2008          379.77               294.60                417.89   \n",
       "59      2009          348.78               293.88                436.16   \n",
       "..       ...             ...                  ...                   ...   \n",
       "146     2096          338.45               281.54                480.16   \n",
       "147     2097          378.45               313.31                511.54   \n",
       "148     2098          366.73               289.75                429.62   \n",
       "149     2099          371.09               311.06                438.76   \n",
       "150     2100          365.26               298.92                471.47   \n",
       "\n",
       "     RCP 4.5 Median  RCP 4.5 Range (low)  RCP 4.5 Range (high)  \\\n",
       "55           368.01               308.22                416.89   \n",
       "56           365.12               281.60                424.60   \n",
       "57           346.19               283.91                460.18   \n",
       "58           331.62               288.24                417.80   \n",
       "59           339.01               274.52                430.41   \n",
       "..              ...                  ...                   ...   \n",
       "146          401.70               313.04                507.91   \n",
       "147          354.82               279.74                456.37   \n",
       "148          380.23               323.85                496.79   \n",
       "149          376.60               277.29                458.75   \n",
       "150          376.95               321.41                479.74   \n",
       "\n",
       "     RCP 8.5 Median  RCP 8.5 Range (low)  RCP 8.5 Range (high)  \n",
       "55           370.39               308.60                432.19  \n",
       "56           353.17               305.85                410.41  \n",
       "57           357.96               267.49                459.59  \n",
       "58           329.39               252.21                433.35  \n",
       "59           377.20               339.40                451.90  \n",
       "..              ...                  ...                   ...  \n",
       "146          371.96               309.73                472.78  \n",
       "147          375.05               289.02                496.29  \n",
       "148          376.75               333.71                431.17  \n",
       "149          404.15               302.67                514.09  \n",
       "150          401.81               279.14                480.02  \n",
       "\n",
       "[96 rows x 10 columns]"
      ]
     },
     "execution_count": 13,
     "metadata": {},
     "output_type": "execute_result"
    }
   ],
   "source": [
    "#This changes the 'DateTime' to a 'Year'\n",
    "\n",
    "#Historical\n",
    "i = 1950 # This specifies the starting date\n",
    "for x in range (56):\n",
    "    H_precipitation[\"DateTime\"][x]=i\n",
    "    i = i + 1\n",
    "H_precipitation\n",
    "\n",
    "#Future\n",
    "i = 2005 # This specifies the starting date\n",
    "for x in range (55,151):\n",
    "    F_precipitation[\"DateTime\"][x]=i\n",
    "    i = i + 1 # This ensures one year is added for each row\n",
    "F_precipitation\n",
    "\n",
    "\n"
   ]
  },
  {
   "cell_type": "markdown",
   "metadata": {},
   "source": [
    "The data is very good so no further processing is required."
   ]
  },
  {
   "cell_type": "markdown",
   "metadata": {},
   "source": [
    "### 4. Wrangle Data"
   ]
  },
  {
   "cell_type": "markdown",
   "metadata": {},
   "source": [
    "I am not planning to merge in any other datasets or restructure the data at this time."
   ]
  },
  {
   "cell_type": "markdown",
   "metadata": {},
   "source": [
    "## Task 3 - Method Chaining\n",
    "\n",
    "NOTE: the methods described here differ slightly from those used in the analysis pipeline. Those methods had to be revised to make them compatible with method chaining, but they have the same output."
   ]
  },
  {
   "cell_type": "markdown",
   "metadata": {},
   "source": [
    "\n",
    "**Step 1: Building Method Chains**"
   ]
  },
  {
   "cell_type": "code",
   "execution_count": 14,
   "metadata": {},
   "outputs": [
    {
     "name": "stderr",
     "output_type": "stream",
     "text": [
      "C:\\Users\\bfrid\\AppData\\Local\\Temp/ipykernel_27104/1196066524.py:16: FutureWarning: In a future version of pandas all arguments of DataFrame.drop except for the argument 'labels' will be keyword-only\n",
      "  pd.read_csv('../data/raw/Total_Precitation.csv')\n",
      "C:\\Users\\bfrid\\AppData\\Local\\Temp/ipykernel_27104/1196066524.py:27: FutureWarning: In a future version of pandas all arguments of DataFrame.drop except for the argument 'labels' will be keyword-only\n",
      "  pd.read_csv('../data/raw/Total_Precitation.csv')\n"
     ]
    }
   ],
   "source": [
    "#Import Necessary Libraries\n",
    "import numpy as np\n",
    "import pandas as pd\n",
    "import seaborn as sns\n",
    "import matplotlib.pylab as plt\n",
    "\n",
    "\n",
    "#Load Raw Data\n",
    "prec = pd.read_csv('../data/raw/Total_Precitation.csv',)\n",
    "\n",
    "#Method Chaining Begins\n",
    "\n",
    "\"\"\" This creates a new dataframe for historic data, removes NaN values, \n",
    "and replaces \"DateTime\" with \"Year\"\"\"\n",
    "Historic = (\n",
    "     pd.read_csv('../data/raw/Total_Precitation.csv')\n",
    "    .loc[0:55]\n",
    "    .dropna(axis='columns', how ='any')\n",
    "    .assign(Year = lambda x: range(1950,2006))\n",
    "    .drop(\"DateTime\", 1)\n",
    ")\n",
    "\n",
    "\n",
    "\"\"\" This creates a new dataframe for future data, removes NaN values, \n",
    "and replaces \"DateTime\" with \"Year\"\"\"\n",
    "Future = (\n",
    "     pd.read_csv('../data/raw/Total_Precitation.csv')\n",
    "    .loc[55:151]\n",
    "    .dropna(axis='columns', how ='any')  \n",
    "    .assign(Year = lambda x: range(2005,2101))\n",
    "    .drop(\"DateTime\", 1)\n",
    ")\n"
   ]
  },
  {
   "cell_type": "markdown",
   "metadata": {},
   "source": [
    "**Step 2 - Wrap Method Chains in a Function**\n"
   ]
  },
  {
   "cell_type": "code",
   "execution_count": 15,
   "metadata": {},
   "outputs": [],
   "source": [
    "def load_and_process(path='../data/raw/Total_Precitation.csv'): \n",
    "    \"\"\" This creates a new dataframe for historic data, removes NaN values, \n",
    "    and replaces \"DateTime\" with \"Year\"\"\"\n",
    "    Historic = (\n",
    "         pd.read_csv('../data/raw/Total_Precitation.csv')\n",
    "        .loc[0:55]\n",
    "        .dropna(axis='columns', how ='any')\n",
    "        .assign(Year = lambda x: range(1950,2006))\n",
    "        .drop(\"DateTime\", 1)\n",
    ")\n",
    "    \"\"\" This creates a new dataframe for future data, removes NaN values, \n",
    "    and replaces \"DateTime\" with \"Year\"\"\"\n",
    "    Future = (\n",
    "         pd.read_csv('../data/raw/Total_Precitation.csv')\n",
    "        .loc[55:151]\n",
    "        .dropna(axis='columns', how ='any')  \n",
    "        .assign(Year = lambda x: range(2005,2101))\n",
    "        .drop(\"DateTime\", 1)\n",
    ")\n",
    "    return (Historic, Future)"
   ]
  },
  {
   "cell_type": "code",
   "execution_count": 16,
   "metadata": {},
   "outputs": [
    {
     "name": "stderr",
     "output_type": "stream",
     "text": [
      "C:\\Users\\bfrid\\OneDrive\\Documents\\year4\\data301\\Project\\project-group70-project\\notebooks\\project_functions2.py:9: FutureWarning: In a future version of pandas all arguments of DataFrame.drop except for the argument 'labels' will be keyword-only\n",
      "  pd.read_csv('../data/raw/Total_Precitation.csv')\n",
      "C:\\Users\\bfrid\\OneDrive\\Documents\\year4\\data301\\Project\\project-group70-project\\notebooks\\project_functions2.py:18: FutureWarning: In a future version of pandas all arguments of DataFrame.drop except for the argument 'labels' will be keyword-only\n",
      "  pd.read_csv('../data/raw/Total_Precitation.csv')\n"
     ]
    }
   ],
   "source": [
    "from project_functions2 import load_and_process\n",
    "hp,fp = load_and_process(path='../data/raw/Total_Precitation.csv')"
   ]
  },
  {
   "cell_type": "code",
   "execution_count": 17,
   "metadata": {},
   "outputs": [],
   "source": [
    "hp.to_csv('../data/processed/historical_total_precipitation.csv')"
   ]
  },
  {
   "cell_type": "code",
   "execution_count": 18,
   "metadata": {},
   "outputs": [],
   "source": [
    "fp.to_csv('../data/processed/future_total_precipitation.csv')"
   ]
  },
  {
   "cell_type": "markdown",
   "metadata": {},
   "source": [
    "## Task 4 - Analysis "
   ]
  },
  {
   "cell_type": "markdown",
   "metadata": {},
   "source": [
    "### Historical Data Analysis"
   ]
  },
  {
   "cell_type": "code",
   "execution_count": 29,
   "metadata": {},
   "outputs": [
    {
     "data": {
      "image/png": "[encoded data removed]",
      "text/plain": [
       "<Figure size 360x360 with 1 Axes>"
      ]
     },
     "metadata": {},
     "output_type": "display_data"
    }
   ],
   "source": [
    "sns.set_theme(style = \"ticks\")\n",
    "\n",
    "scatter_hp = sns.relplot(\n",
    "    data=hp, kind=\"scatter\",\n",
    "    x=\"Year\", y=\"Modeled Historical\"\n",
    ").set(title = \"Modeled Historical Precipitation in Kelowna\", ylabel=\"Annual Precipitation (mm)\")"
   ]
  },
  {
   "cell_type": "markdown",
   "metadata": {},
   "source": [
    "The scatterplot of the historical precipitation data shows no clear trend in precipitation over time. There is a clear outlier in 1955 where precipitation was much lower than in other years. This may have been a year with severe drought. A regression plot is produced next to confirm this relationship between total precipitation and time."
   ]
  },
  {
   "cell_type": "code",
   "execution_count": 20,
   "metadata": {},
   "outputs": [
    {
     "data": {
      "image/png": "[encoded data removed]",
      "text/plain": [
       "<Figure size 432x288 with 1 Axes>"
      ]
     },
     "metadata": {},
     "output_type": "display_data"
    }
   ],
   "source": [
    "regression_hp = sns.regplot(data=hp, x=\"Year\", y=\"Modeled Historical\", marker = \"+\").set(title = \"Modeled Historical Precipitation Regression in Kelowna\", ylabel=\"Annual Precipitation (mm)\")"
   ]
  },
  {
   "cell_type": "markdown",
   "metadata": {},
   "source": [
    "The regression analysis confirms that there is no clear relationship between total precipitation and time in Kelowna. The historical annual precipitation has been pretty variable over time. This variability will be explored further with the help of a distribution plot."
   ]
  },
  {
   "cell_type": "code",
   "execution_count": 21,
   "metadata": {},
   "outputs": [
    {
     "data": {
      "image/png": "[encoded data removed]",
      "text/plain": [
       "<Figure size 360x360 with 1 Axes>"
      ]
     },
     "metadata": {},
     "output_type": "display_data"
    }
   ],
   "source": [
    "distribution_hp = sns.displot(data=hp[\"Modeled Historical\"], kde=True, bins=15).set(title = \"Modeled Historical Precipitation in Kelowna (1950-2005)\", xlabel=\"Annual Precipitation (mm)\")"
   ]
  },
  {
   "cell_type": "markdown",
   "metadata": {},
   "source": [
    "This distribution plot highlights the variability of total precipitation in Kelowna from 1950-2005. This plot suggests that in the past, total annual precipitation was commonly around 340mm. Lower values were not commonly seen, and these could possible be years of severe drought. Higher values are quite likely, with some years receiving over 370mm of precipitation. However, a total annual precipitation much higher was not seen. "
   ]
  },
  {
   "cell_type": "markdown",
   "metadata": {},
   "source": [
    "### Projected Data Analysis "
   ]
  },
  {
   "cell_type": "code",
   "execution_count": 50,
   "metadata": {},
   "outputs": [],
   "source": [
    "sns.set_theme(style=\"ticks\",\n",
    "              font_scale=1.1)"
   ]
  },
  {
   "cell_type": "code",
   "execution_count": 120,
   "metadata": {},
   "outputs": [
    {
     "data": {
      "text/plain": [
       "Text(0.5, 1.0, 'Projected Precipitation in Kelowna')"
      ]
     },
     "execution_count": 120,
     "metadata": {},
     "output_type": "execute_result"
    },
    {
     "data": {
      "image/png": "[encoded data removed]",
      "text/plain": [
       "<Figure size 432x288 with 1 Axes>"
      ]
     },
     "metadata": {},
     "output_type": "display_data"
    }
   ],
   "source": [
    "Combined=sns.regplot(data=fp, x=\"Year\", y=\"RCP 2.6 Median\", marker=\"\", color=\"blue\")\n",
    "Combined=sns.regplot(data=fp, x=\"Year\", y=\"RCP 4.5 Median\", marker=\"\", color=\"orange\")\n",
    "Combined=sns.regplot(data=fp, x=\"Year\", y=\"RCP 8.5 Median\", marker=\"\", color=\"red\")\n",
    "plt.plot(fp[\"Year\"], fp[\"RCP 2.6 Median\"], label=\"RCP 2.6\", linewidth=0.5, color=\"blue\")\n",
    "plt.plot(fp[\"Year\"], fp[\"RCP 4.5 Median\"], label=\"RCP 4.5\", linewidth=0.5, color=\"orange\")\n",
    "plt.plot(fp[\"Year\"], fp[\"RCP 8.5 Median\"], label=\"RCP 8.5\", linewidth=0.5, color=\"red\")\n",
    "plt.legend()\n",
    "plt.xlabel(\"Year\")\n",
    "plt.ylabel(\"Annual Precipitation (mm)\")\n",
    "plt.title(\"Projected Precipitation in Kelowna\", fontsize=16)"
   ]
  },
  {
   "cell_type": "markdown",
   "metadata": {},
   "source": [
    "This graph gives a rough idea of how annual precipitation is expected to change over time with the three different carbon dioxide emission scenarios. It generally suggests that annual precipitation increases over time. It compares the different scenarios and shows that the general trend of the high emissions scenario predicts that precipitation will increase a lot more in Kelowna if we do nothing to reduce carbon dioxide emissions. In the early 2020s, the precipitation from the 3 models is very similar, and the differences increase over time."
   ]
  },
  {
   "cell_type": "code",
   "execution_count": 83,
   "metadata": {},
   "outputs": [
    {
     "data": {
      "text/plain": [
       "Text(0.5, 1.0, 'RCP 2.6 Projected Precipitation in Kelowna')"
      ]
     },
     "execution_count": 83,
     "metadata": {},
     "output_type": "execute_result"
    },
    {
     "data": {
      "image/png": "[encoded data removed]",
      "text/plain": [
       "<Figure size 432x288 with 1 Axes>"
      ]
     },
     "metadata": {},
     "output_type": "display_data"
    }
   ],
   "source": [
    "line_fp26 = sns.regplot(data=fp,x=\"Year\", y=\"RCP 2.6 Median\", marker =\"+\", color=\"blue\")\n",
    "plt.ylabel(\"Total Annual Precipitation (mm)\")\n",
    "plt.title(\"RCP 2.6 Projected Precipitation in Kelowna\", size=16)\n"
   ]
  },
  {
   "cell_type": "markdown",
   "metadata": {},
   "source": [
    "The projected precipitation in Kelowna under the representative concentration pathway 2.6 is highly variable, but appears to be increasing very slightly over time. This suggests that decreasing carbon dioxide emissions to zero by 2100 could lead to an increase in annual precipitation in Kelowna. This extent of this increase will be explored in more depth using a distribution plot."
   ]
  },
  {
   "cell_type": "code",
   "execution_count": 84,
   "metadata": {},
   "outputs": [
    {
     "data": {
      "image/png": "[encoded data removed]",
      "text/plain": [
       "<Figure size 360x360 with 1 Axes>"
      ]
     },
     "metadata": {},
     "output_type": "display_data"
    }
   ],
   "source": [
    "distribution_fp26 = sns.displot(data=fp[\"RCP 2.6 Median\"], kde=True, bins=15, color=\"blue\").set(title = \"Projected Precipitation in Kelowna (2005-2100) with RCP2.6\", xlabel=\"Annual Precipitation (mm)\")"
   ]
  },
  {
   "cell_type": "markdown",
   "metadata": {},
   "source": [
    "When comparing this distribution to the distribution of the historical data, it can be seen that the annual precipitation is predicted to become significantly greater. Most years will receive between 360 and 380mm of precipitation, but some may receive over 400mm. This is much more than in the past. "
   ]
  },
  {
   "cell_type": "code",
   "execution_count": 82,
   "metadata": {},
   "outputs": [
    {
     "data": {
      "text/plain": [
       "Text(0.5, 1.0, 'RCP 4.5 Projected Precipitation in Kelowna')"
      ]
     },
     "execution_count": 82,
     "metadata": {},
     "output_type": "execute_result"
    },
    {
     "data": {
      "image/png": "[encoded data removed]",
      "text/plain": [
       "<Figure size 432x288 with 1 Axes>"
      ]
     },
     "metadata": {},
     "output_type": "display_data"
    }
   ],
   "source": [
    "line_fp45 = sns.regplot(data=fp,x=\"Year\", y=\"RCP 4.5 Median\", marker =\"+\", color=\"orange\")\n",
    "plt.ylabel(\"Total Annual Precipitation (mm)\")\n",
    "plt.title(\"RCP 4.5 Projected Precipitation in Kelowna\", size=16)"
   ]
  },
  {
   "cell_type": "markdown",
   "metadata": {},
   "source": [
    "Like for RCP 2.6, the RCP 4.5 carbon dioxide emissions scenario shows that annual precipitation is expected to be highly variable and increase a little over time. Another distirbution plot will be used to analyse how the precipitation values differ from the other RCPs and historical data."
   ]
  },
  {
   "cell_type": "code",
   "execution_count": 81,
   "metadata": {},
   "outputs": [
    {
     "data": {
      "image/png": "[encoded data removed]",
      "text/plain": [
       "<Figure size 360x360 with 1 Axes>"
      ]
     },
     "metadata": {},
     "output_type": "display_data"
    }
   ],
   "source": [
    "distribution_fp45 = sns.displot(data=fp[\"RCP 4.5 Median\"], kde=True, bins=15, color=\"orange\").set(title = \"Projected Precipitation in Kelowna (2005-2100) with RCP 4.5\", xlabel=\"Annual Precipitation (mm)\")"
   ]
  },
  {
   "cell_type": "markdown",
   "metadata": {},
   "source": [
    "The variability for RCP 4.5 is also very high. Most years will receive a total precipitation of 350 to 390mm."
   ]
  },
  {
   "cell_type": "code",
   "execution_count": 78,
   "metadata": {},
   "outputs": [
    {
     "data": {
      "text/plain": [
       "Text(0.5, 1.0, 'RCP 8.5 Projected Precipitation in Kelowna')"
      ]
     },
     "execution_count": 78,
     "metadata": {},
     "output_type": "execute_result"
    },
    {
     "data": {
      "image/png": "[encoded data removed]",
      "text/plain": [
       "<Figure size 432x288 with 1 Axes>"
      ]
     },
     "metadata": {},
     "output_type": "display_data"
    }
   ],
   "source": [
    "line_fp85 = sns.regplot(data=fp,x=\"Year\", y=\"RCP 8.5 Median\", marker =\"+\", color=\"red\")\n",
    "plt.ylabel(\"Total Annual Precipitation (mm)\")\n",
    "plt.title(\"RCP 8.5 Projected Precipitation in Kelowna\", size=16)"
   ]
  },
  {
   "cell_type": "markdown",
   "metadata": {},
   "source": [
    "This plot shows greater variability in projected precipitation for Kelowna, with values surpassing 400mm. The trend also shows a general increase in total precipitation over time, which is the same as the other RCPs. One last distribution plot will be used to analyse the spread in the projected values."
   ]
  },
  {
   "cell_type": "code",
   "execution_count": 80,
   "metadata": {},
   "outputs": [
    {
     "data": {
      "image/png": "[encoded data removed]",
      "text/plain": [
       "<Figure size 360x360 with 1 Axes>"
      ]
     },
     "metadata": {},
     "output_type": "display_data"
    }
   ],
   "source": [
    "distribution_fp85 = sns.displot(data=fp[\"RCP 8.5 Median\"], kde=True, bins=15, color=\"red\").set(title = \"Projected Precipitation in Kelowna (2005-2100) with RCP 8.5\", xlabel=\"Annual Precipitation (mm)\")"
   ]
  },
  {
   "cell_type": "markdown",
   "metadata": {},
   "source": [
    "The distributon plot for RCP 8.5 is shows very high variability. However, the majority of the values lie bewtween 350 and 390mm. "
   ]
  },
  {
   "cell_type": "markdown",
   "metadata": {},
   "source": [
    "### Conclusion\n",
    "This data analysis shows that historical precipitation for Kelowna was commonly around 340mm a year. This is projected to increase signficantly, exceeding 400mm for all carbon dioxide emission scenarios, but RCP 8.5 increases a lot more than the other two. Therefore, it does  appear that controlling carbon dioxide emissions could have a significant impact on the amount of precipitation in the future. Additionally, RCP 4.5 and RCP 8.5 show greater variability in total precipitation compared to RCP 2.6, suggesting that measures taken to reduce carbon dioxide emissions can potentially help reduce the high variability in precipitation in Kelowna in the future. A 60mm higher annual precipitation does not seem like a lot and may be desirable, but this is applied to the whole area of Kelowna (around 200 square kilometers) and results in significant volumes of water. The streams and infrastructure of Kelowna and surrounding areas are not necessarily equiped for this volume of water, and it could result in flooding and destruction of infrastructure. Furthermore, the high variability means that precipitation may be less predictable over the long term, which can be an issue for the management of water resources. Thus, it is vital to decrease our carbon dioxide emissions over this century."
   ]
  }
 ],
 "metadata": {
  "kernelspec": {
   "display_name": "Python 3 (ipykernel)",
   "language": "python",
   "name": "python3"
  },
  "language_info": {
   "codemirror_mode": {
    "name": "ipython",
    "version": 3
   },
   "file_extension": ".py",
   "mimetype": "text/x-python",
   "name": "python",
   "nbconvert_exporter": "python",
   "pygments_lexer": "ipython3",
   "version": "3.9.5"
  }
 },
 "nbformat": 4,
 "nbformat_minor": 4
}
